{
 "cells": [
  {
   "cell_type": "code",
   "execution_count": 1,
   "metadata": {},
   "outputs": [],
   "source": [
    "import matplotlib.pyplot as plt\n",
    "import numpy as np\n",
    "from Bio import SeqIO\n",
    "from numba import njit\n",
    "\n",
    "def merge_sequences_from_fasta(file_path):\n",
    "    sequences = []  # List to store all sequences\n",
    "    for record in SeqIO.parse(file_path, \"fasta\"):\n",
    "        # record.seq gives the sequence\n",
    "        sequences.append(str(record.seq))\n",
    "    return \"\".join(sequences)\n",
    "\n",
    "@njit\n",
    "def generate_dotplot_seq(seq1, seq2, start1, end1, start2, end2, matrix):\n",
    "    for i in range(start1, end1):\n",
    "        for j in range(start2, end2):\n",
    "            if seq1[i] == seq2[j]:\n",
    "                matrix[i - start1, j - start2] = 1"
   ]
  },
  {
   "cell_type": "code",
   "execution_count": 2,
   "metadata": {},
   "outputs": [],
   "source": [
    "file_path_1 = \"data/E_coli.fna\"\n",
    "file_path_2 = \"data/Salmonella.fna\""
   ]
  },
  {
   "cell_type": "code",
   "execution_count": 3,
   "metadata": {},
   "outputs": [],
   "source": [
    "seq1 = merge_sequences_from_fasta(file_path_1)\n",
    "seq2 = merge_sequences_from_fasta(file_path_2)"
   ]
  },
  {
   "cell_type": "code",
   "execution_count": 4,
   "metadata": {},
   "outputs": [],
   "source": [
    "num_sections = 30"
   ]
  },
  {
   "cell_type": "code",
   "execution_count": 5,
   "metadata": {},
   "outputs": [],
   "source": [
    "section_size1 = len(seq1) // num_sections\n",
    "section_size2 = len(seq2) // num_sections"
   ]
  },
  {
   "cell_type": "code",
   "execution_count": 6,
   "metadata": {},
   "outputs": [],
   "source": [
    "for i in range(num_sections):\n",
    "    start1 = i * section_size1\n",
    "    end1 = (i + 1) * section_size1\n",
    "    start2 = i * section_size2\n",
    "    end2 = (i + 1) * section_size2\n",
    "\n",
    "    matrix = np.zeros((end1 - start1, end2 - start2), dtype=np.uint8)\n",
    "    generate_dotplot_seq(seq1, seq2, start1, end1, start2, end2, matrix)\n",
    "\n",
    "    plt.imshow(matrix, cmap='Greys', aspect='auto')\n",
    "    plt.xlabel('Sequence 2')\n",
    "    plt.ylabel('Sequence 1')\n",
    "    plt.title('Part {}'.format(i + 1))\n",
    "    plt.show()"
   ]
  },
  {
   "cell_type": "code",
   "execution_count": 9,
   "metadata": {},
   "outputs": [],
   "source": [
    "import matplotlib.pyplot as plt\n",
    "import numpy as np\n",
    "from Bio import SeqIO\n",
    "from numba import njit\n",
    "\n",
    "def merge_sequences_from_fasta(file_path):\n",
    "    sequences = []  # List to store all sequences\n",
    "    for record in SeqIO.parse(file_path, \"fasta\"):\n",
    "        # record.seq gives the sequence\n",
    "        sequences.append(str(record.seq))\n",
    "    return \"\".join(sequences)\n",
    "\n",
    "@njit\n",
    "def generate_dotplot_seq(seq1, seq2, matrix):\n",
    "    for i in range(len(seq1)):\n",
    "        for j in range(len(seq2)):\n",
    "            if seq1[i] == seq2[j]:\n",
    "                matrix[i, j] = 1\n",
    "\n",
    "def optimize_code(file_path1, file_path2, num_sections):\n",
    "    seq1 = merge_sequences_from_fasta(file_path1)\n",
    "    seq2 = merge_sequences_from_fasta(file_path2)\n",
    "    section_size1 = len(seq1) // num_sections\n",
    "    section_size2 = len(seq2) // num_sections\n",
    "\n",
    "    for i in range(num_sections):\n",
    "        start1 = i * section_size1\n",
    "        end1 = (i + 1) * section_size1\n",
    "        start2 = i * section_size2\n",
    "        end2 = (i + 1) * section_size2\n",
    "\n",
    "        matrix = np.zeros((end1 - start1, end2 - start2), dtype=np.uint8)\n",
    "        generate_dotplot_seq(seq1[start1:end1], seq2[start2:end2], matrix)\n",
    "\n",
    "        plt.imshow(matrix, cmap='Greys', aspect='auto')\n",
    "        plt.xlabel('Sequence 2')\n",
    "        plt.ylabel('Sequence 1')\n",
    "        plt.title('Part {}'.format(i + 1))\n",
    "        plt.show()\n",
    "\n",
    "# Ejemplo de uso\n",
    "file_path_1 = \"data/E_coli.fna\"\n",
    "file_path_2 = \"data/Salmonella.fna\"\n",
    "num_sections = 30\n",
    "\n",
    "optimize_code(file_path_1, file_path_2, num_sections)"
   ]
  }
 ],
 "metadata": {
  "kernelspec": {
   "display_name": ".venv",
   "language": "python",
   "name": "python3"
  },
  "language_info": {
   "codemirror_mode": {
    "name": "ipython",
    "version": 3
   },
   "file_extension": ".py",
   "mimetype": "text/x-python",
   "name": "python",
   "nbconvert_exporter": "python",
   "pygments_lexer": "ipython3",
   "version": "3.10.6"
  },
  "orig_nbformat": 4
 },
 "nbformat": 4,
 "nbformat_minor": 2
}
