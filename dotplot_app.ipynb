{
 "cells": [
  {
   "attachments": {},
   "cell_type": "markdown",
   "metadata": {},
   "source": [
    "# Secuencial"
   ]
  },
  {
   "cell_type": "code",
   "execution_count": 4,
   "metadata": {},
   "outputs": [],
   "source": [
    "import time\n",
    "import numpy as np\n",
    "import matplotlib.pyplot as plt\n",
    "from tqdm import tqdm\n",
    "def cargar_archivo_fna(nombre_archivo):\n",
    "    with open(nombre_archivo, 'r') as archivo:\n",
    "        contenido = archivo.read()\n",
    "    return contenido"
   ]
  },
  {
   "cell_type": "code",
   "execution_count": 5,
   "metadata": {},
   "outputs": [],
   "source": [
    "secuencia1 = cargar_archivo_fna(\"data/E_coli.fna\")\n",
    "secuencia2 = cargar_archivo_fna(\"data/Salmonella.fna\")"
   ]
  },
  {
   "cell_type": "code",
   "execution_count": 11,
   "metadata": {},
   "outputs": [
    {
     "ename": "MemoryError",
     "evalue": "Unable to allocate 21.4 TiB for an array with shape (4699745, 5013482) and data type bool",
     "output_type": "error",
     "traceback": [
      "\u001b[0;31m---------------------------------------------------------------------------\u001b[0m",
      "\u001b[0;31mMemoryError\u001b[0m                               Traceback (most recent call last)",
      "Cell \u001b[0;32mIn[11], line 2\u001b[0m\n\u001b[1;32m      1\u001b[0m begin \u001b[39m=\u001b[39m time\u001b[39m.\u001b[39mtime()\n\u001b[0;32m----> 2\u001b[0m dotplot \u001b[39m=\u001b[39m np\u001b[39m.\u001b[39;49mempty([\u001b[39mlen\u001b[39;49m(secuencia1),\u001b[39mlen\u001b[39;49m(secuencia2)], dtype\u001b[39m=\u001b[39;49mnp\u001b[39m.\u001b[39;49mbool_)\n\u001b[1;32m      3\u001b[0m \u001b[39mprint\u001b[39m(\u001b[39m\"\u001b[39m\u001b[39mLa matriz de resultado tiene tamaño: \u001b[39m\u001b[39m\"\u001b[39m, dotplot\u001b[39m.\u001b[39mshape)\n\u001b[1;32m      5\u001b[0m dotplot[secuencia1[:, \u001b[39mNone\u001b[39;00m] \u001b[39m==\u001b[39m secuencia2] \u001b[39m=\u001b[39m \u001b[39mTrue\u001b[39;00m\n",
      "\u001b[0;31mMemoryError\u001b[0m: Unable to allocate 21.4 TiB for an array with shape (4699745, 5013482) and data type bool"
     ]
    }
   ],
   "source": [
    "begin = time.time()\n",
    "dotplot = np.empty([len(secuencia1),len(secuencia2)], dtype=np.bool_)\n",
    "print(\"La matriz de resultado tiene tamaño: \", dotplot.shape)\n",
    "\n",
    "dotplot[secuencia1[:, None] == secuencia2] = True\n",
    "\n",
    "print(f\"\\n El código se ejecutó en: {time.time() - begin} segundos\")"
   ]
  },
  {
   "attachments": {},
   "cell_type": "markdown",
   "metadata": {},
   "source": [
    "# el codigo completo saldria asi\n",
    "\n",
    "Aca se esta utilizando una matriz dispersa: en lugar de crear una matriz completa, puede utilizar matriz dispersa para almacenar solo las posiciones y valores no nulos.\n",
    "\n",
    "Tambien se va a procesar por lotes, se divide el procesamiento en lotes mas pequeños en lugar de cargar todo el archivo a la vez"
   ]
  },
  {
   "cell_type": "code",
   "execution_count": null,
   "metadata": {},
   "outputs": [],
   "source": [
    "import time\n",
    "import numpy as np\n",
    "from scipy.sparse import lil_matrix\n",
    "from tqdm import tqdm\n",
    "\n",
    "def cargar_archivo_fna(nombre_archivo):\n",
    "    with open(nombre_archivo, 'r') as archivo:\n",
    "        contenido = archivo.read()\n",
    "    return contenido\n",
    "\n",
    "def crear_dotplot(secuencia1, secuencia2):\n",
    "    codigos_secuencia1 = np.array([ord(c) for c in secuencia1], dtype=np.uint8)\n",
    "    codigos_secuencia2 = np.array([ord(c) for c in secuencia2], dtype=np.uint8)\n",
    "\n",
    "    dotplot = lil_matrix((len(secuencia1), len(secuencia2)), dtype=np.uint8)\n",
    "    for i in tqdm(range(len(secuencia1))):\n",
    "        for j in range(len(secuencia2)):\n",
    "            if codigos_secuencia1[i] == codigos_secuencia2[j]:\n",
    "                dotplot[i, j] = 1\n",
    "            else:\n",
    "                dotplot[i,j] = 0\n",
    "    return dotplot\n",
    "\n",
    "secuencia1 = cargar_archivo_fna(\"E_coli.fna\")\n",
    "secuencia2 = cargar_archivo_fna(\"Salmonella.fna\")\n",
    "\n",
    "begin = time.time()\n",
    "dotplot = crear_dotplot(secuencia1, secuencia2)\n",
    "print(\"La matriz de resultado tiene tamaño: \", dotplot.shape)\n",
    "print(f\"\\n El código se ejecutó en: {time.time() - begin} segundos\")"
   ]
  },
  {
   "cell_type": "code",
   "execution_count": null,
   "metadata": {},
   "outputs": [],
   "source": [
    "import time\n",
    "import numpy as np\n",
    "from scipy.sparse import lil_matrix\n",
    "from tqdm import tqdm\n",
    "\n",
    "def cargar_archivo_fna(nombre_archivo):\n",
    "    with open(nombre_archivo, 'r') as archivo:\n",
    "        contenido = archivo.read()\n",
    "    return contenido\n",
    "\n",
    "secuencia1 = cargar_archivo_fna(\"E_coli.fna\")\n",
    "secuencia2 = cargar_archivo_fna(\"Salmonella.fna\")\n",
    "bloque_tam = 10000  # Tamaño del bloque a procesar\n",
    "\n",
    "begin = time.time()\n",
    "\n",
    "dotplot = lil_matrix((len(secuencia1), len(secuencia2)), dtype=np.uint8)\n",
    "print(\"La matriz de resultado tiene tamaño: \", dotplot.shape)\n",
    "\n",
    "for i in tqdm(range(0, len(secuencia1), bloque_tam)):\n",
    "    bloque_secuencia1 = secuencia1[i:i+bloque_tam]\n",
    "    for j in range(0, len(secuencia2), bloque_tam):\n",
    "        bloque_secuencia2 = secuencia2[j:j+bloque_tam]\n",
    "        for k in range(len(bloque_secuencia1)):\n",
    "            for l in range(len(bloque_secuencia2)):\n",
    "                if bloque_secuencia1[k] == bloque_secuencia2[l]:\n",
    "                    dotplot[i+k, j+l] = 1\n",
    "                else:\n",
    "                    dotplot[i+k, j+l] = 0\n",
    "    \n",
    "\n",
    "\n",
    "print(f\"\\n El código se ejecutó en: {time.time() - begin} segundos\")"
   ]
  },
  {
   "cell_type": "code",
   "execution_count": null,
   "metadata": {},
   "outputs": [],
   "source": [
    "import matplotlib.pyplot as plt\n",
    "def draw_dotplot(matrix, fig_name='dotplot.svg'):\n",
    "  plt.figure(figsize=(5,5))\n",
    "  plt.imshow(matrix, cmap='Greys',aspect='auto')\n",
    "\n",
    "  plt.ylabel(\"Secuencia 1\")\n",
    "  plt.xlabel(\"Secuencia 2\")\n",
    "  plt.savefig(fig_name)"
   ]
  },
  {
   "cell_type": "code",
   "execution_count": null,
   "metadata": {},
   "outputs": [],
   "source": [
    "draw_dotplot(dotplot[:200,:200 ])"
   ]
  },
  {
   "attachments": {},
   "cell_type": "markdown",
   "metadata": {},
   "source": [
    "# Multiprocessing"
   ]
  },
  {
   "cell_type": "code",
   "execution_count": null,
   "metadata": {},
   "outputs": [],
   "source": [
    "%%writefile multiprocessing.py\n",
    "import argparse\n",
    "from Bio import SeqIO\n",
    "import matplotlib.pyplot as plt\n",
    "import numpy as np\n",
    "from scipy.sparse import lil_matrix\n",
    "\n",
    "# Función para generar el dotplot utilizando una matriz dispersa\n",
    "def sparse_dotplot(seq1, seq2):\n",
    "    n = len(seq1)\n",
    "    m = len(seq2)\n",
    "    dotplot = lil_matrix((n, m), dtype=bool)\n",
    "\n",
    "    for i in range(n):\n",
    "        for j in range(m):\n",
    "            if seq1[i] == seq2[j]:\n",
    "                dotplot[i, j] = True\n",
    "\n",
    "    return dotplot\n",
    "\n",
    "# Función principal para ejecutar el dotplot\n",
    "def run_dotplot(seq1_file, seq2_file):\n",
    "    # Leer las secuencias desde los archivos FASTA\n",
    "    seq1 = str(next(SeqIO.parse(seq1_file, \"fasta\")).seq)\n",
    "    seq2 = str(next(SeqIO.parse(seq2_file, \"fasta\")).seq)\n",
    "\n",
    "    dotplot = sparse_dotplot(seq1, seq2)\n",
    "\n",
    "    # Generar el gráfico del dotplot\n",
    "    plt.imshow(dotplot.toarray(), cmap=\"Greys\")\n",
    "    plt.title(\"Dotplot\")\n",
    "    plt.xlabel(\"Sequence 2\")\n",
    "    plt.ylabel(\"Sequence 1\")\n",
    "    plt.show()\n",
    "\n",
    "if _name_ == \"_main_\":\n",
    "    # Configurar los argumentos de línea de comandos\n",
    "    parser = argparse.ArgumentParser(description=\"Dotplot Generator\")\n",
    "    parser.add_argument(\"seq1_file\", type=str, help=\"Archivo FASTA de la secuencia 1\")\n",
    "    parser.add_argument(\"seq2_file\", type=str, help=\"Archivo FASTA de la secuencia 2\")\n",
    "    args = parser.parse_args()\n",
    "\n",
    "    # Ejecutar el dotplot con los argumentos proporcionados\n",
    "    run_dotplot(args.seq1_file, args.seq2_file)"
   ]
  },
  {
   "cell_type": "code",
   "execution_count": null,
   "metadata": {},
   "outputs": [],
   "source": [
    "!python3 multiprocessing.py E_coli.fna Salmonella.fna"
   ]
  },
  {
   "attachments": {},
   "cell_type": "markdown",
   "metadata": {},
   "source": [
    "# MPI4PY"
   ]
  },
  {
   "cell_type": "code",
   "execution_count": 9,
   "metadata": {},
   "outputs": [
    {
     "name": "stdout",
     "output_type": "stream",
     "text": [
      "Writing dotplot_mpi.py\n"
     ]
    }
   ],
   "source": [
    "%%writefile dotplot_mpi.py\n",
    "import argparse\n",
    "from Bio import SeqIO\n",
    "import matplotlib.pyplot as plt\n",
    "import numpy as np\n",
    "from mpi4py import MPI\n",
    "\n",
    "# Función para generar el dotplot utilizando mpi4py\n",
    "def distributed_dotplot(seq1, seq2):\n",
    "    comm = MPI.COMM_WORLD\n",
    "    rank = comm.Get_rank()\n",
    "    size = comm.Get_size()\n",
    "\n",
    "    n = len(seq1)\n",
    "    m = len(seq2)\n",
    "    dotplot = np.zeros((n, m))\n",
    "\n",
    "    # Dividir las filas de trabajo entre los procesos\n",
    "    chunk_size = n // size\n",
    "    start_row = rank * chunk_size\n",
    "    end_row = start_row + chunk_size if rank < size - 1 else n\n",
    "\n",
    "    for i in range(start_row, end_row):\n",
    "        for j in range(m):\n",
    "            if seq1[i] == seq2[j]:\n",
    "                dotplot[i, j] = 1\n",
    "\n",
    "    # Recopilar los resultados parciales en el proceso raíz\n",
    "    dotplot = comm.gather(dotplot, root=0)\n",
    "\n",
    "    if rank == 0:\n",
    "        dotplot = np.concatenate(dotplot)\n",
    "\n",
    "    return dotplot\n",
    "\n",
    "# Función principal para ejecutar el dotplot\n",
    "def run_dotplot(seq1_file, seq2_file):\n",
    "    # Leer las secuencias desde los archivos FASTA\n",
    "    seq1 = str(next(SeqIO.parse(seq1_file, \"fasta\")).seq)\n",
    "    seq2 = str(next(SeqIO.parse(seq2_file, \"fasta\")).seq)\n",
    "\n",
    "    dotplot = distributed_dotplot(seq1, seq2)\n",
    "\n",
    "    # Generar el gráfico del dotplot\n",
    "    plt.imshow(dotplot, cmap=\"Greys\")\n",
    "    plt.title(\"Dotplot\")\n",
    "    plt.xlabel(\"Sequence 2\")\n",
    "    plt.ylabel(\"Sequence 1\")\n",
    "    plt.show()\n",
    "\n",
    "if __name__ == \"__main__\":\n",
    "    # Configurar los argumentos de línea de comandos\n",
    "    parser = argparse.ArgumentParser(description=\"Dotplot Generator\")\n",
    "    parser.add_argument(\"seq1_file\", type=str, help=\"Archivo FASTA de la secuencia 1\")\n",
    "    parser.add_argument(\"seq2_file\", type=str, help=\"Archivo FASTA de la secuencia 2\")\n",
    "    args = parser.parse_args()\n",
    "\n",
    "    # Ejecutar el dotplot con los argumentos proporcionados\n",
    "    run_dotplot(args.seq1_file, args.seq2_file)"
   ]
  },
  {
   "cell_type": "code",
   "execution_count": 11,
   "metadata": {},
   "outputs": [
    {
     "name": "stdout",
     "output_type": "stream",
     "text": [
      "Traceback (most recent call last):\n",
      "  File \"/home/mrtopo/Documents/Proyects/Analisis-Rendimiento-Dotplot/dotplot_mpi.py\", line 58, in <module>\n",
      "    run_dotplot(args.seq1_file, args.seq2_file)\n",
      "  File \"/home/mrtopo/Documents/Proyects/Analisis-Rendimiento-Dotplot/dotplot_mpi.py\", line 41, in run_dotplot\n",
      "    dotplot = distributed_dotplot(seq1, seq2)\n",
      "  File \"/home/mrtopo/Documents/Proyects/Analisis-Rendimiento-Dotplot/dotplot_mpi.py\", line 15, in distributed_dotplot\n",
      "    dotplot = np.zeros((n, m))\n",
      "numpy.core._exceptions._ArrayMemoryError: Unable to allocate 164. TiB for an array with shape (4641652, 4857450) and data type float64\n",
      "Traceback (most recent call last):\n",
      "  File \"/home/mrtopo/Documents/Proyects/Analisis-Rendimiento-Dotplot/dotplot_mpi.py\", line 58, in <module>\n",
      "    run_dotplot(args.seq1_file, args.seq2_file)\n",
      "  File \"/home/mrtopo/Documents/Proyects/Analisis-Rendimiento-Dotplot/dotplot_mpi.py\", line 41, in run_dotplot\n",
      "    dotplot = distributed_dotplot(seq1, seq2)\n",
      "  File \"/home/mrtopo/Documents/Proyects/Analisis-Rendimiento-Dotplot/dotplot_mpi.py\", line 15, in distributed_dotplot\n",
      "    dotplot = np.zeros((n, m))\n",
      "numpy.core._exceptions._ArrayMemoryError: Unable to allocate 164. TiB for an array with shape (4641652, 4857450) and data type float64\n",
      "Traceback (most recent call last):\n",
      "  File \"/home/mrtopo/Documents/Proyects/Analisis-Rendimiento-Dotplot/dotplot_mpi.py\", line 58, in <module>\n",
      "    run_dotplot(args.seq1_file, args.seq2_file)\n",
      "  File \"/home/mrtopo/Documents/Proyects/Analisis-Rendimiento-Dotplot/dotplot_mpi.py\", line 41, in run_dotplot\n",
      "    dotplot = distributed_dotplot(seq1, seq2)\n",
      "  File \"/home/mrtopo/Documents/Proyects/Analisis-Rendimiento-Dotplot/dotplot_mpi.py\", line 15, in distributed_dotplot\n",
      "    dotplot = np.zeros((n, m))\n",
      "numpy.core._exceptions._ArrayMemoryError: Unable to allocate 164. TiB for an array with shape (4641652, 4857450) and data type float64\n",
      "Traceback (most recent call last):\n",
      "  File \"/home/mrtopo/Documents/Proyects/Analisis-Rendimiento-Dotplot/dotplot_mpi.py\", line 58, in <module>\n",
      "    run_dotplot(args.seq1_file, args.seq2_file)\n",
      "  File \"/home/mrtopo/Documents/Proyects/Analisis-Rendimiento-Dotplot/dotplot_mpi.py\", line 41, in run_dotplot\n",
      "    dotplot = distributed_dotplot(seq1, seq2)\n",
      "  File \"/home/mrtopo/Documents/Proyects/Analisis-Rendimiento-Dotplot/dotplot_mpi.py\", line 15, in distributed_dotplot\n",
      "    dotplot = np.zeros((n, m))\n",
      "numpy.core._exceptions._ArrayMemoryError: Unable to allocate 164. TiB for an array with shape (4641652, 4857450) and data type float64\n",
      "Traceback (most recent call last):\n",
      "  File \"/home/mrtopo/Documents/Proyects/Analisis-Rendimiento-Dotplot/dotplot_mpi.py\", line 58, in <module>\n",
      "    run_dotplot(args.seq1_file, args.seq2_file)\n",
      "  File \"/home/mrtopo/Documents/Proyects/Analisis-Rendimiento-Dotplot/dotplot_mpi.py\", line 41, in run_dotplot\n",
      "Traceback (most recent call last):\n",
      "    dotplot = distributed_dotplot(seq1, seq2)\n",
      "  File \"/home/mrtopo/Documents/Proyects/Analisis-Rendimiento-Dotplot/dotplot_mpi.py\", line 15, in distributed_dotplot\n",
      "  File \"/home/mrtopo/Documents/Proyects/Analisis-Rendimiento-Dotplot/dotplot_mpi.py\", line 58, in <module>\n",
      "    dotplot = np.zeros((n, m))\n",
      "numpy.core._exceptions._ArrayMemoryError: Unable to allocate 164. TiB for an array with shape (4641652, 4857450) and data type float64\n",
      "    run_dotplot(args.seq1_file, args.seq2_file)\n",
      "  File \"/home/mrtopo/Documents/Proyects/Analisis-Rendimiento-Dotplot/dotplot_mpi.py\", line 41, in run_dotplot\n",
      "    dotplot = distributed_dotplot(seq1, seq2)\n",
      "  File \"/home/mrtopo/Documents/Proyects/Analisis-Rendimiento-Dotplot/dotplot_mpi.py\", line 15, in distributed_dotplot\n",
      "    dotplot = np.zeros((n, m))\n",
      "numpy.core._exceptions._ArrayMemoryError: Unable to allocate 164. TiB for an array with shape (4641652, 4857450) and data type float64\n"
     ]
    }
   ],
   "source": [
    "!mpiexec -n 6 python3 dotplot_mpi.py E_coli.fna Salmonella.fna"
   ]
  }
 ],
 "metadata": {
  "kernelspec": {
   "display_name": ".venv",
   "language": "python",
   "name": "python3"
  },
  "language_info": {
   "codemirror_mode": {
    "name": "ipython",
    "version": 3
   },
   "file_extension": ".py",
   "mimetype": "text/x-python",
   "name": "python",
   "nbconvert_exporter": "python",
   "pygments_lexer": "ipython3",
   "version": "3.10.6"
  },
  "orig_nbformat": 4
 },
 "nbformat": 4,
 "nbformat_minor": 2
}
